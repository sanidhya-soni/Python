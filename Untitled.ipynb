{
 "cells": [
  {
   "cell_type": "code",
   "execution_count": null,
   "id": "813fb91c",
   "metadata": {},
   "outputs": [],
   "source": [
    "print('Ji')"
   ]
  },
  {
   "cell_type": "code",
   "execution_count": null,
   "id": "3b300c1f",
   "metadata": {},
   "outputs": [],
   "source": []
  }
 ],
 "metadata": {
  "kernelspec": {
   "display_name": "Python 3.10.7 64-bit",
   "language": "python",
   "name": "python3"
  },
  "language_info": {
   "codemirror_mode": {
    "name": "ipython",
    "version": 3
   },
   "file_extension": ".py",
   "mimetype": "text/x-python",
   "name": "python",
   "nbconvert_exporter": "python",
   "pygments_lexer": "ipython3",
   "version": "3.10.8"
  },
  "vscode": {
   "interpreter": {
    "hash": "0574d250621702a04293cf19aa689bd350cb9cea84751274e4cea25c29eecf65"
   }
  }
 },
 "nbformat": 4,
 "nbformat_minor": 5
}
