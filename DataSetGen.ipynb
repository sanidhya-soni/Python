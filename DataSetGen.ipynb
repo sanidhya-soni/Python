{
 "cells": [
  {
   "cell_type": "code",
   "execution_count": 84,
   "metadata": {},
   "outputs": [],
   "source": [
    "from random import randrange\n",
    "from datetime import timedelta\n",
    "from random import randint\n",
    "import pandas as pd\n",
    "import numpy as np\n",
    "from datetime import datetime"
   ]
  },
  {
   "cell_type": "code",
   "execution_count": 85,
   "metadata": {},
   "outputs": [],
   "source": [
    "def random_date(start, end):\n",
    "    delta = end - start\n",
    "    int_delta = (delta.days * 24 * 60 * 60) + delta.seconds\n",
    "    random_second = randrange(int_delta)\n",
    "    return start + timedelta(seconds=random_second)"
   ]
  },
  {
   "cell_type": "code",
   "execution_count": 86,
   "metadata": {},
   "outputs": [
    {
     "name": "stdout",
     "output_type": "stream",
     "text": [
      "2008-12-12 20:29:49\n"
     ]
    }
   ],
   "source": [
    "d1 = datetime.strptime('1/1/2008 1:30 PM', '%m/%d/%Y %I:%M %p')\n",
    "d2 = datetime.strptime('1/1/2009 4:50 AM', '%m/%d/%Y %I:%M %p')\n",
    "print(random_date(d1, d2))  "
   ]
  },
  {
   "cell_type": "code",
   "execution_count": 87,
   "metadata": {},
   "outputs": [],
   "source": [
    "def generator(datapoints,start_d,end_d,min_w,max_w):\n",
    "    DATE = []\n",
    "    weights = []\n",
    "    # d1 = datetime.strptime('1/1/2008 1:30 PM', '%m/%d/%Y %I:%M %p')\n",
    "    # d2 = datetime.strptime('1/1/2009 4:50 AM', '%m/%d/%Y %I:%M %p')\n",
    "    d1 = datetime.strptime(start_d, '%m/%d/%Y %I:%M %p')\n",
    "    d2 = datetime.strptime(end_d, '%m/%d/%Y %I:%M %p')\n",
    "    for i in range(datapoints):\n",
    "        temp = random_date(d1,d2)\n",
    "        s = str(temp.day)+\"-\"+str(temp.month)+\"-\"+str(temp.year)\n",
    "        DATE.append(s)\n",
    "        n = randint(min_w,max_w)\n",
    "        weights.append(n)\n",
    "    d= {'Date':DATE,\n",
    "        'Weight':weights}\n",
    "    df = pd.DataFrame(d)\n",
    "    df.to_csv('Data.csv',index=False)"
   ]
  },
  {
   "cell_type": "code",
   "execution_count": 88,
   "metadata": {},
   "outputs": [],
   "source": [
    "data_points = int(input(\"Enter the number of data points : \"))\n",
    "start_d = input(\"Enter the start date : \")\n",
    "end_d = input(\"Enter the end date : \")\n",
    "min_w = int(input(\"Enter the minimum weight : \"))\n",
    "max_w = int(input(\"Enter the max weight : \"))\n",
    "generator(data_points,start_d,end_d,min_w,max_w)"
   ]
  },
  {
   "cell_type": "code",
   "execution_count": null,
   "metadata": {},
   "outputs": [],
   "source": []
  }
 ],
 "metadata": {
  "kernelspec": {
   "display_name": "Python 3.10.4 64-bit",
   "language": "python",
   "name": "python3"
  },
  "language_info": {
   "codemirror_mode": {
    "name": "ipython",
    "version": 3
   },
   "file_extension": ".py",
   "mimetype": "text/x-python",
   "name": "python",
   "nbconvert_exporter": "python",
   "pygments_lexer": "ipython3",
   "version": "3.10.4"
  },
  "orig_nbformat": 4,
  "vscode": {
   "interpreter": {
    "hash": "916dbcbb3f70747c44a77c7bcd40155683ae19c65e1c03b4aa3499c5328201f1"
   }
  }
 },
 "nbformat": 4,
 "nbformat_minor": 2
}
